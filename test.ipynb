{
 "cells": [
  {
   "cell_type": "code",
   "execution_count": 1,
   "metadata": {},
   "outputs": [
    {
     "ename": "ModuleNotFoundError",
     "evalue": "No module named 'numpy'",
     "output_type": "error",
     "traceback": [
      "\u001b[0;31m---------------------------------------------------------------------------\u001b[0m",
      "\u001b[0;31mModuleNotFoundError\u001b[0m                       Traceback (most recent call last)",
      "Cell \u001b[0;32mIn[1], line 1\u001b[0m\n\u001b[0;32m----> 1\u001b[0m \u001b[38;5;28;01mimport\u001b[39;00m \u001b[38;5;21;01mnumpy\u001b[39;00m \u001b[38;5;28;01mas\u001b[39;00m \u001b[38;5;21;01mnp\u001b[39;00m\n\u001b[1;32m      2\u001b[0m \u001b[38;5;28;01mimport\u001b[39;00m \u001b[38;5;21;01mpandas\u001b[39;00m \u001b[38;5;28;01mas\u001b[39;00m \u001b[38;5;21;01mpd\u001b[39;00m\n\u001b[1;32m      3\u001b[0m \u001b[38;5;28;01mimport\u001b[39;00m \u001b[38;5;21;01mmatplotlib\u001b[39;00m\u001b[38;5;21;01m.\u001b[39;00m\u001b[38;5;21;01mpyplot\u001b[39;00m \u001b[38;5;28;01mas\u001b[39;00m \u001b[38;5;21;01mplt\u001b[39;00m\n",
      "\u001b[0;31mModuleNotFoundError\u001b[0m: No module named 'numpy'"
     ]
    }
   ],
   "source": [
    "import numpy as np\n",
    "import pandas as pd\n",
    "import matplotlib.pyplot as plt\n",
    "import ipywidgets as widgets\n",
    "from IPython.display import display\n",
    "from sklearn.linear_model import LogisticRegression\n",
    "\n",
    "# Creiamo un dataset di esempio con CFU, voto medio e una variabile target binaria\n",
    "np.random.seed(42)\n",
    "data = pd.DataFrame({\n",
    "    'cfu': np.random.randint(20, 200, 100),\n",
    "    'voto_medio': np.random.randint(18, 31, 100),\n",
    "    'esito': np.random.choice([0, 1], 100)  # 0 = non pass, 1 = pass\n",
    "})\n",
    "\n",
    "# Addestriamo un modello di regressione logistica\n",
    "X = data[['cfu', 'voto_medio']]\n",
    "y = data['esito']\n",
    "model = LogisticRegression()\n",
    "model.fit(X, y)\n",
    "\n",
    "# Funzione per calcolare il logit\n",
    "def calculate_logit(cfu, voto_medio, model):\n",
    "    logit = model.predict_proba([[cfu, voto_medio]])[0][1]\n",
    "    return logit\n",
    "\n",
    "# Funzione di aggiornamento dell'animazione\n",
    "def update_plot(cfu, voto_medio):\n",
    "    logit = calculate_logit(cfu, voto_medio, model)\n",
    "    ax.clear()\n",
    "    ax.bar(['Probability of Passing'], [logit], color='blue')\n",
    "    ax.set_ylim(0, 1)\n",
    "    ax.set_ylabel('Probability')\n",
    "    ax.set_title(f'CFU: {cfu}, Voto Medio: {voto_medio}, Logit: {logit:.2f}')\n",
    "    plt.draw()\n",
    "\n",
    "# Creiamo la figura\n",
    "fig, ax = plt.subplots()\n",
    "update_plot(data['cfu'].mean(), data['voto_medio'].mean())\n",
    "\n",
    "# Creiamo i widget per i cursori\n",
    "cfu_slider = widgets.IntSlider(min=data['cfu'].min(), max=data['cfu'].max(), step=1, value=int(data['cfu'].mean()), description='CFU')\n",
    "voto_slider = widgets.IntSlider(min=data['voto_medio'].min(), max=data['voto_medio'].max(), step=1, value=int(data['voto_medio'].mean()), description='Voto Medio')\n",
    "\n",
    "# Colleghiamo i cursori alla funzione di aggiornamento\n",
    "widgets.interactive(update_plot, cfu=cfu_slider, voto_medio=voto_slider)\n",
    "\n",
    "# Visualizziamo i cursori\n",
    "display(cfu_slider, voto_slider)\n",
    "plt.show()"
   ]
  }
 ],
 "metadata": {
  "kernelspec": {
   "display_name": "Python 3",
   "language": "python",
   "name": "python3"
  },
  "language_info": {
   "codemirror_mode": {
    "name": "ipython",
    "version": 3
   },
   "file_extension": ".py",
   "mimetype": "text/x-python",
   "name": "python",
   "nbconvert_exporter": "python",
   "pygments_lexer": "ipython3",
   "version": "3.10.12"
  }
 },
 "nbformat": 4,
 "nbformat_minor": 2
}
